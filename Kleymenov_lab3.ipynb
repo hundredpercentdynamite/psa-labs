{
 "cells": [
  {
   "cell_type": "markdown",
   "metadata": {
    "collapsed": true,
    "pycharm": {
     "name": "#%% md\n"
    }
   },
   "source": [
    "# Лабораторная работа №3\n",
    "## Клейменов Владимир Евгеньевич\n",
    "### БПМ-19-3\n",
    "### Вариант №3"
   ]
  },
  {
   "cell_type": "code",
   "execution_count": 63,
   "metadata": {
    "pycharm": {
     "name": "#%%\n"
    }
   },
   "outputs": [],
   "source": [
    "import numpy as np\n",
    "import scipy as sc"
   ]
  },
  {
   "cell_type": "markdown",
   "metadata": {},
   "source": [
    "## Критерий Крускала-Уоллиса\n",
    "### Вариант №3\n",
    "\n",
    "H0: Различия между выборками не являются статистически достоверными и носят случайный характер\n",
    "\n",
    "H1: Различия являются статистически достоверными"
   ]
  },
  {
   "cell_type": "code",
   "execution_count": 64,
   "metadata": {
    "pycharm": {
     "name": "#%%\n"
    }
   },
   "outputs": [],
   "source": [
    "A = np.array([35.6, 36.0, 34.9, 34.7, 35.8, 37.2, 38.9, 35.8, 36.7, 37.7, 37.8, 36.9, 37.4, 39.1])\n",
    "B = np.array([35.7, 36.5, 34.8, 34.5, 35.9, 37.7, 38.8, 35.6, 36.8, 38.3, 37.7, 36.7, 37.5, 39.6])\n"
   ]
  },
  {
   "cell_type": "markdown",
   "metadata": {
    "pycharm": {
     "name": "#%% md\n"
    }
   },
   "source": [
    "Посчитаем ранги и проверим их"
   ]
  },
  {
   "cell_type": "code",
   "execution_count": 65,
   "metadata": {
    "pycharm": {
     "name": "#%%\n"
    }
   },
   "outputs": [
    {
     "name": "stdout",
     "output_type": "stream",
     "text": [
      "Ranks A :  [ 3.   6.   2.   1.   4.5  9.  13.   4.5  7.  11.  12.   8.  10.  14. ]\n",
      "Ranks B :  [ 4.   6.   2.   1.   5.  10.5 13.   3.   8.  12.  10.5  7.   9.  14. ]\n"
     ]
    }
   ],
   "source": [
    "def getRanks(arr):\n",
    "    ranks = sc.stats.rankdata(arr)\n",
    "    return ranks\n",
    "\n",
    "ranksA = getRanks(A)\n",
    "ranksB = getRanks(B)\n",
    "print(\"Ranks A : \", ranksA)\n",
    "print(\"Ranks B : \", ranksB)"
   ]
  },
  {
   "cell_type": "code",
   "execution_count": 66,
   "metadata": {
    "pycharm": {
     "name": "#%%\n"
    }
   },
   "outputs": [
    {
     "name": "stdout",
     "output_type": "stream",
     "text": [
      "Ранги А корректны:  True\n",
      "Ранги B корректны:  True\n"
     ]
    }
   ],
   "source": [
    "def checkRanks(ranks, a):\n",
    "    sum = np.sum(ranks)\n",
    "    N = len(a)\n",
    "    result = (N * (N + 1)) / 2\n",
    "    return sum == result\n",
    "isValidRanksA = checkRanks(ranksA, A)\n",
    "isValidRanksB = checkRanks(ranksB, B)\n",
    "print(\"Ранги А корректны: \", isValidRanksA)\n",
    "print(\"Ранги B корректны: \", isValidRanksB)"
   ]
  },
  {
   "cell_type": "markdown",
   "metadata": {
    "pycharm": {
     "name": "#%% md\n"
    }
   },
   "source": [
    "Для двух выборок критерий Крускала-Уоллиса по сути сводится к критерию Манна-Уитни\n",
    "\n",
    "Посчитаем эмпирическое значение U"
   ]
  },
  {
   "cell_type": "code",
   "execution_count": 67,
   "metadata": {
    "pycharm": {
     "name": "#%%\n"
    }
   },
   "outputs": [],
   "source": [
    "def getU(ranksA, ranksB):\n",
    "    lenA = len(ranksA)\n",
    "    lenB = len(ranksB)\n",
    "    sumA = np.sum(ranksA)\n",
    "    sumB = np.sum(ranksB)\n",
    "    maxSum = max(sumA, sumB)\n",
    "    left = lenA * lenB\n",
    "    right = (lenA * (lenA + 1)) / 2\n",
    "    result = left + right - maxSum\n",
    "    return result\n",
    "\n",
    "U = getU(ranksA, ranksB)\n",
    "U_table = 55"
   ]
  },
  {
   "cell_type": "markdown",
   "metadata": {
    "pycharm": {
     "name": "#%% md\n"
    }
   },
   "source": [
    "Сравним эмпирическое значение U с табличным:"
   ]
  },
  {
   "cell_type": "code",
   "execution_count": 68,
   "metadata": {
    "pycharm": {
     "name": "#%%\n"
    }
   },
   "outputs": [
    {
     "name": "stdout",
     "output_type": "stream",
     "text": [
      "U эмпирическое =  196.0\n",
      "U(14,14) критическое при уровне значимости 0.05 =  55\n"
     ]
    }
   ],
   "source": [
    "print(\"U эмпирическое = \", U)\n",
    "print(\"U(14,14) критическое при уровне значимости 0.05 = \", U_table)"
   ]
  },
  {
   "cell_type": "markdown",
   "metadata": {},
   "source": [
    "Так как эмпирическое значение U больше критического\n",
    "(U > Uкр) при уровне значимости 0.05, то принимается гипотеза 𝐻0:\n",
    "Различия между выборками не являются статистически достоверными и носят случайный характер"
   ]
  },
  {
   "cell_type": "markdown",
   "metadata": {
    "pycharm": {
     "name": "#%% md\n"
    }
   },
   "source": [
    "## Критерий Уилкоксона\n",
    "### Вариант №3\n",
    "\n",
    "H0: отсутствие статистической значимости изменений показателя\n",
    "H1: статистическая значимость изменений показателя в типичную сторону"
   ]
  },
  {
   "cell_type": "code",
   "execution_count": 69,
   "metadata": {
    "pycharm": {
     "name": "#%%\n"
    }
   },
   "outputs": [],
   "source": [
    "A = np.array([35.6, 36.0, 34.9, 34.7, 35.8, 37.2, 38.9, 35.8, 36.7, 37.7, 37.8, 36.9, 37.4, 39.1])\n",
    "B = np.array([35.7, 36.5, 34.8, 34.5, 35.9, 37.7, 38.8, 35.6, 36.8, 38.3, 37.7, 36.7, 37.5, 39.6])"
   ]
  },
  {
   "cell_type": "markdown",
   "metadata": {
    "pycharm": {
     "name": "#%% md\n"
    }
   },
   "source": [
    "Посчитаем разности показателей и проранжируем"
   ]
  },
  {
   "cell_type": "code",
   "execution_count": 70,
   "metadata": {
    "pycharm": {
     "name": "#%%\n"
    }
   },
   "outputs": [
    {
     "name": "stdout",
     "output_type": "stream",
     "text": [
      "Diffirencies :  [-0.1 -0.5  0.1  0.2 -0.1 -0.5  0.1  0.2 -0.1 -0.6  0.1  0.2 -0.1 -0.5]\n",
      "Absolute diffirencies :  [0.1 0.5 0.1 0.2 0.1 0.5 0.1 0.2 0.1 0.6 0.1 0.2 0.1 0.5]\n",
      "Ranks :  [ 6.   3.  10.5 14.   6.   3.  10.5 12.5  8.   1.   9.  12.5  6.   3. ]\n",
      "Is ranks valid : True\n"
     ]
    }
   ],
   "source": [
    "differencies = A - B\n",
    "absDifferencies = abs(differencies)\n",
    "print(\"Diffirencies : \", differencies)\n",
    "print(\"Absolute diffirencies : \", absDifferencies)\n",
    "diffRanks = getRanks(differencies)\n",
    "print(\"Ranks : \", diffRanks)\n",
    "\n",
    "print(\"Is ranks valid :\", checkRanks(diffRanks, differencies))"
   ]
  },
  {
   "cell_type": "markdown",
   "metadata": {
    "pycharm": {
     "name": "#%% md\n"
    }
   },
   "source": [
    "Пусть, типичным сдвигом будет считаться A[i] - B[i] < 0\n",
    "\n",
    "Выберем индексы рангов соответствующих сдвигам в нетипичном направлении"
   ]
  },
  {
   "cell_type": "code",
   "execution_count": 71,
   "metadata": {
    "pycharm": {
     "name": "#%%\n"
    }
   },
   "outputs": [
    {
     "name": "stdout",
     "output_type": "stream",
     "text": [
      "Индексы рангов с нетипичным сдвигом:  [ 2.  3.  6.  7. 10. 11.]\n"
     ]
    }
   ],
   "source": [
    "def markRanks(diff, negative: bool):\n",
    "    rankIndices = np.array([])\n",
    "    for i in range(len(diff)):\n",
    "        if ((diff[i] < 0) and negative) or (diff[i] > 0) and not negative:\n",
    "            rankIndices = np.append(rankIndices, i)\n",
    "    return  rankIndices\n",
    "\n",
    "indices = markRanks(differencies, False)\n",
    "print(\"Индексы рангов с нетипичным сдвигом: \", indices)"
   ]
  },
  {
   "cell_type": "markdown",
   "metadata": {
    "pycharm": {
     "name": "#%% md\n"
    }
   },
   "source": [
    "Расчитаем T-критерий Уилкоксона"
   ]
  },
  {
   "cell_type": "code",
   "execution_count": 72,
   "metadata": {
    "pycharm": {
     "name": "#%%\n"
    }
   },
   "outputs": [],
   "source": [
    "def getEmpT(rankIndices, ranks):\n",
    "    sum = 0\n",
    "    for i in range(len(rankIndices)):\n",
    "        sum += ranks[i]\n",
    "    return sum\n",
    "T_emp = getEmpT(indices, diffRanks)\n",
    "T_table = 25"
   ]
  },
  {
   "cell_type": "markdown",
   "metadata": {
    "pycharm": {
     "name": "#%% md\n"
    }
   },
   "source": [
    "Сравним эмпирическое значение T с табличным T(14)_0.05"
   ]
  },
  {
   "cell_type": "code",
   "execution_count": 73,
   "metadata": {
    "pycharm": {
     "name": "#%%\n"
    }
   },
   "outputs": [
    {
     "name": "stdout",
     "output_type": "stream",
     "text": [
      "T эмпирическое :  42.5\n",
      "T(14)_0.05 :  25\n",
      "Tэмп > T(14) =  True\n"
     ]
    }
   ],
   "source": [
    "print(\"T эмпирическое : \", T_emp)\n",
    "print(\"T(14)_0.05 : \", T_table)\n",
    "print(\"Tэмп > T(14) = \", T_emp > T_table)"
   ]
  },
  {
   "cell_type": "markdown",
   "metadata": {
    "pycharm": {
     "name": "#%% md\n"
    }
   },
   "source": [
    "Так как эмпирическое значение T больше табличного T(14) принимается нулевая гипотеза об отсутствии статистической значимости изменений показателя."
   ]
  },
  {
   "cell_type": "markdown",
   "metadata": {
    "pycharm": {
     "name": "#%% md\n"
    }
   },
   "source": [
    "Задача №8\n",
    "H0: расход топлива остался прежним: x = 10л\n",
    "H1: расход топлива уменьшился: x < 10л\n",
    "\n",
    "Воспользуемся t-критерием Стьюдента для сравнения средних"
   ]
  },
  {
   "cell_type": "code",
   "execution_count": 74,
   "metadata": {
    "pycharm": {
     "name": "#%%\n"
    }
   },
   "outputs": [],
   "source": [
    "a = np.array([9.67, 10.1, 9.9, 9.35, 10.2, 9.45, 10.5, 9.56, 9.96])\n",
    "s = 10"
   ]
  },
  {
   "cell_type": "markdown",
   "metadata": {
    "pycharm": {
     "name": "#%% md\n"
    }
   },
   "source": [
    "Расчитаем сумму, выборочное среднее и квадраты отклонений"
   ]
  },
  {
   "cell_type": "code",
   "execution_count": 75,
   "metadata": {
    "pycharm": {
     "name": "#%%\n"
    }
   },
   "outputs": [],
   "source": [
    "lenA = len(a)\n",
    "sum = np.sum(a)\n",
    "xArange = sum / lenA\n",
    "powDiffs = pow(a - xArange, 2)\n",
    "powDiffsSum = np.sum(powDiffs)"
   ]
  },
  {
   "cell_type": "markdown",
   "metadata": {
    "pycharm": {
     "name": "#%% md\n"
    }
   },
   "source": [
    "Посчитаем выборочную и исправленную дисперсии"
   ]
  },
  {
   "cell_type": "code",
   "execution_count": 76,
   "metadata": {
    "pycharm": {
     "name": "#%%\n"
    }
   },
   "outputs": [],
   "source": [
    "Dv = powDiffsSum / lenA\n",
    "s2 = (lenA / (lenA - 1)) * Dv\n",
    "std = pow(s2, 1 / 2)\n"
   ]
  },
  {
   "cell_type": "markdown",
   "metadata": {
    "pycharm": {
     "name": "#%% md\n"
    }
   },
   "source": [
    "Расчитаем статистику критерия t"
   ]
  },
  {
   "cell_type": "code",
   "execution_count": 77,
   "metadata": {
    "pycharm": {
     "name": "#%%\n"
    }
   },
   "outputs": [
    {
     "name": "stdout",
     "output_type": "stream",
     "text": [
      "-1.152508774777006\n"
     ]
    }
   ],
   "source": [
    "t = ((xArange - s) * pow(lenA, 1 / 2)) / std\n",
    "t_table = 2.26\n",
    "print(t)"
   ]
  },
  {
   "cell_type": "markdown",
   "metadata": {
    "pycharm": {
     "name": "#%% md\n"
    }
   },
   "source": [
    "Сравним абсолютное значение t с табличным значением t(9)_0.05 = 2,26"
   ]
  },
  {
   "cell_type": "code",
   "execution_count": 78,
   "metadata": {
    "pycharm": {
     "name": "#%%\n"
    }
   },
   "outputs": [
    {
     "name": "stdout",
     "output_type": "stream",
     "text": [
      "|t| =  1.152508774777006\n",
      "t(9)_0.05 =  2.26\n",
      "|t| < t(9)_0.05 = True\n"
     ]
    }
   ],
   "source": [
    "print(\"|t| = \", abs(t))\n",
    "print(\"t(9)_0.05 = \", t_table)\n",
    "print(\"|t| < t(9)_0.05 =\", abs(t) < t_table)"
   ]
  },
  {
   "cell_type": "markdown",
   "metadata": {},
   "source": [
    "Так как абсолютное значение t с табличным значением меньше t(9)_0.05, принимается гипотеза H0 - расход топлива не изменился\n"
   ]
  },
  {
   "cell_type": "markdown",
   "source": [
    "## Критерий Крускала-Уоллиса\n",
    "### Вариант №5 - Дополнение с тремя выборками\n",
    "\n",
    "H0: Группы не имеют различий\n",
    "H1: Группы имеют различия"
   ],
   "metadata": {
    "collapsed": false,
    "pycharm": {
     "name": "#%% md\n"
    }
   }
  },
  {
   "cell_type": "code",
   "execution_count": 79,
   "outputs": [
    {
     "name": "stdout",
     "output_type": "stream",
     "text": [
      "42 0.006644518272425249 2362.5 129\n",
      "H эмпирическое =  -113.30232558139535\n",
      "H табличное =  5.99\n",
      "H эмпирическое < H табличного => гипотеза H0 принимается\n"
     ]
    }
   ],
   "source": [
    "A = np.array([67.5, 66.9, 56.9, 65.7, 68.5, 59.9, 60.8, 67.2, 58.9, 63.9, 61.2, 63.7, 59.9, 65.5])\n",
    "B = np.array([67.6, 66.7, 57.2, 66.1, 68.6, 59.7, 61.1, 67.6, 59.0, 63.7, 61.5, 64.1, 60.0, 65.3])\n",
    "C = np.array([67.4, 66.8, 57.0, 66.2, 68.7, 59.8, 60.9, 67.5, 59.2, 63.8, 61.3, 63.8, 61.0, 65.4])\n",
    "\n",
    "A_ranks = getRanks(A)\n",
    "B_ranks = getRanks(B)\n",
    "C_ranks = getRanks(C)\n",
    "\n",
    "def getH(ranks):\n",
    "    N = 0\n",
    "    for r in ranks:\n",
    "        N += len(r)\n",
    "\n",
    "    left = 12 / (N * (N + 1))\n",
    "    middle = 0\n",
    "    for r in ranks:\n",
    "        summ = np.sum(r)\n",
    "        middle += pow(summ, 2) / len(r)\n",
    "    right = 3 * (N + 1)\n",
    "    print(N, left, middle, right)\n",
    "    return (left * middle) - right\n",
    "\n",
    "H = getH([A_ranks, B_ranks, C_ranks])\n",
    "print(\"H эмпирическое = \", H)\n",
    "H_table = 5.99\n",
    "print(\"H табличное = \", H_table)\n",
    "print(\"H эмпирическое < H табличного => гипотеза H0 принимается\")"
   ],
   "metadata": {
    "collapsed": false,
    "pycharm": {
     "name": "#%%\n"
    }
   }
  }
 ],
 "metadata": {
  "kernelspec": {
   "display_name": "Python 3 (ipykernel)",
   "language": "python",
   "name": "python3"
  },
  "language_info": {
   "codemirror_mode": {
    "name": "ipython",
    "version": 3
   },
   "file_extension": ".py",
   "mimetype": "text/x-python",
   "name": "python",
   "nbconvert_exporter": "python",
   "pygments_lexer": "ipython3",
   "version": "3.8.10"
  }
 },
 "nbformat": 4,
 "nbformat_minor": 1
}