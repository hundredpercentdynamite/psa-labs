{
 "cells": [
  {
   "cell_type": "markdown",
   "metadata": {
    "collapsed": true,
    "pycharm": {
     "name": "#%% md\n"
    }
   },
   "source": [
    "## Часть 1. Критерий Крускала-Уоллиса\n",
    "## Часть 2. Критерий Уилкоксона\n",
    "Вариант №3\n",
    "Задача №8"
   ]
  },
  {
   "cell_type": "code",
   "execution_count": 4,
   "outputs": [],
   "source": [
    "import numpy as np\n",
    "import scipy as sc"
   ],
   "metadata": {
    "collapsed": false,
    "pycharm": {
     "name": "#%%\n"
    }
   }
  },
  {
   "cell_type": "code",
   "source": [
    "A = np.array([35.6, 36.0, 34.9, 34.7, 35.8, 37.2, 38.9, 35.8, 36.7, 37.7, 37.8, 36.9, 37.4, 39.1])\n",
    "B = np.array([35.7, 36.5, 34.8, 34.5, 35.9, 37.7, 38.8, 35.6, 36.8, 38.3, 37.7, 36.7, 37.5, 39.6])\n"
   ],
   "metadata": {
    "collapsed": false,
    "pycharm": {
     "name": "#%%\n"
    }
   },
   "execution_count": 5,
   "outputs": []
  },
  {
   "cell_type": "markdown",
   "source": [
    "## Критерий Крускала-Уоллиса\n",
    "H0: Различия между выборками не являются статистически достоверными и носят случайный характер\n",
    "\n",
    "H1: Различия являются статистически достоверными"
   ],
   "metadata": {
    "collapsed": false
   }
  },
  {
   "cell_type": "code",
   "execution_count": 18,
   "outputs": [
    {
     "name": "stdout",
     "output_type": "stream",
     "text": [
      "[ 3.   6.   2.   1.   4.5  9.  13.   4.5  7.  11.  12.   8.  10.  14. ]\n",
      "[ 4.   6.   2.   1.   5.  10.5 13.   3.   8.  12.  10.5  7.   9.  14. ]\n"
     ]
    }
   ],
   "source": [
    "def getRanks(arr):\n",
    "    ranks = sc.stats.rankdata(arr)\n",
    "    print(ranks)\n",
    "    return ranks\n",
    "\n",
    "ranksA = getRanks(A)\n",
    "ranksB = getRanks(B)"
   ],
   "metadata": {
    "collapsed": false,
    "pycharm": {
     "name": "#%%\n"
    }
   }
  },
  {
   "cell_type": "code",
   "execution_count": 19,
   "outputs": [
    {
     "name": "stdout",
     "output_type": "stream",
     "text": [
      "Ранги А корректны:  True\n",
      "Ранги B корректны:  True\n"
     ]
    }
   ],
   "source": [
    "def checkRanks(ranks, a):\n",
    "    sum = np.sum(ranks)\n",
    "    N = len(a)\n",
    "    result = (N * (N + 1)) / 2\n",
    "    return sum == result\n",
    "isValidRanksA = checkRanks(ranksA, A)\n",
    "isValidRanksB = checkRanks(ranksB, B)\n",
    "print(\"Ранги А корректны: \", isValidRanksA)\n",
    "print(\"Ранги B корректны: \", isValidRanksB)"
   ],
   "metadata": {
    "collapsed": false,
    "pycharm": {
     "name": "#%%\n"
    }
   }
  },
  {
   "cell_type": "markdown",
   "source": [
    "Для двух выборок критерий Крускала-Уоллиса по сути сводится к критерию Манна-Уитни"
   ],
   "metadata": {
    "collapsed": false,
    "pycharm": {
     "name": "#%% md\n"
    }
   }
  },
  {
   "cell_type": "code",
   "execution_count": 22,
   "outputs": [
    {
     "name": "stdout",
     "output_type": "stream",
     "text": [
      "196.0\n"
     ]
    }
   ],
   "source": [
    "def getU(ranksA, ranksB):\n",
    "    lenA = len(ranksA)\n",
    "    lenB = len(ranksB)\n",
    "    sumA = np.sum(ranksA)\n",
    "    sumB = np.sum(ranksB)\n",
    "    maxSum = max(sumA, sumB)\n",
    "    left = lenA * lenB\n",
    "    right = (lenA * (lenA + 1)) / 2\n",
    "    result = left + right - maxSum\n",
    "    return result\n",
    "\n",
    "U = getU(ranksA, ranksB)\n",
    "U_table = 64"
   ],
   "metadata": {
    "collapsed": false,
    "pycharm": {
     "name": "#%%\n"
    }
   }
  },
  {
   "cell_type": "markdown",
   "source": [
    "Сравним эмпирическое значение U с табличным:"
   ],
   "metadata": {
    "collapsed": false,
    "pycharm": {
     "name": "#%% md\n"
    }
   }
  },
  {
   "cell_type": "code",
   "execution_count": null,
   "outputs": [],
   "source": [
    "print(\"U эмпирическое = \", U)\n",
    "print(\"U(15,15) критическое при уровне значимости 0.05 = \", U_table)"
   ],
   "metadata": {
    "collapsed": false,
    "pycharm": {
     "name": "#%%\n"
    }
   }
  },
  {
   "cell_type": "markdown",
   "source": [
    "Так как эмпирическое значение U больше критического\n",
    "(U > Uкр) при уровне значимости 0.05, то принимается гипотеза 𝐻0:\n",
    "Различия между выборками не являются статистически достоверными и носят случайный характер\n"
   ],
   "metadata": {
    "collapsed": false
   }
  }
 ],
 "metadata": {
  "kernelspec": {
   "display_name": "Python 3",
   "language": "python",
   "name": "python3"
  },
  "language_info": {
   "codemirror_mode": {
    "name": "ipython",
    "version": 2
   },
   "file_extension": ".py",
   "mimetype": "text/x-python",
   "name": "python",
   "nbconvert_exporter": "python",
   "pygments_lexer": "ipython2",
   "version": "2.7.6"
  }
 },
 "nbformat": 4,
 "nbformat_minor": 0
}