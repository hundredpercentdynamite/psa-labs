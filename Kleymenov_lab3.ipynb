{
 "cells": [
  {
   "cell_type": "markdown",
   "metadata": {
    "collapsed": true,
    "pycharm": {
     "name": "#%% md\n"
    }
   },
   "source": [
    "# Лабораторная работа №3\n",
    "## Клейменов Владимир Евгеньевич\n",
    "### БПМ-19-3\n",
    "### Вариант №3"
   ]
  },
  {
   "cell_type": "code",
   "execution_count": 4,
   "metadata": {
    "pycharm": {
     "name": "#%%\n"
    }
   },
   "outputs": [],
   "source": [
    "import numpy as np\n",
    "import scipy as sc"
   ]
  },
  {
   "cell_type": "markdown",
   "metadata": {},
   "source": [
    "## Критерий Крускала-Уоллиса\n",
    "### Вариант №3\n",
    "\n",
    "H0: Различия между выборками не являются статистически достоверными и носят случайный характер\n",
    "\n",
    "H1: Различия являются статистически достоверными"
   ]
  },
  {
   "cell_type": "code",
   "execution_count": null,
   "metadata": {
    "pycharm": {
     "name": "#%%\n"
    }
   },
   "outputs": [],
   "source": [
    "A = np.array([35.6, 36.0, 34.9, 34.7, 35.8, 37.2, 38.9, 35.8, 36.7, 37.7, 37.8, 36.9, 37.4, 39.1])\n",
    "B = np.array([35.7, 36.5, 34.8, 34.5, 35.9, 37.7, 38.8, 35.6, 36.8, 38.3, 37.7, 36.7, 37.5, 39.6])\n"
   ]
  },
  {
   "cell_type": "markdown",
   "metadata": {
    "pycharm": {
     "name": "#%% md\n"
    }
   },
   "source": [
    "Посчитаем ранги и проверим их"
   ]
  },
  {
   "cell_type": "code",
   "execution_count": 27,
   "metadata": {
    "pycharm": {
     "name": "#%%\n"
    }
   },
   "outputs": [
    {
     "name": "stdout",
     "output_type": "stream",
     "text": [
      "Ranks A :  [ 3.   6.   2.   1.   4.5  9.  13.   4.5  7.  11.  12.   8.  10.  14. ]\n",
      "Ranks B :  [ 4.   6.   2.   1.   5.  10.5 13.   3.   8.  12.  10.5  7.   9.  14. ]\n"
     ]
    }
   ],
   "source": [
    "def getRanks(arr):\n",
    "    ranks = sc.stats.rankdata(arr)\n",
    "    return ranks\n",
    "\n",
    "ranksA = getRanks(A)\n",
    "ranksB = getRanks(B)\n",
    "print(\"Ranks A : \", ranksA)\n",
    "print(\"Ranks B : \", ranksB)"
   ]
  },
  {
   "cell_type": "code",
   "execution_count": 19,
   "metadata": {
    "pycharm": {
     "name": "#%%\n"
    }
   },
   "outputs": [
    {
     "name": "stdout",
     "output_type": "stream",
     "text": [
      "Ранги А корректны:  True\n",
      "Ранги B корректны:  True\n"
     ]
    }
   ],
   "source": [
    "def checkRanks(ranks, a):\n",
    "    sum = np.sum(ranks)\n",
    "    N = len(a)\n",
    "    result = (N * (N + 1)) / 2\n",
    "    return sum == result\n",
    "isValidRanksA = checkRanks(ranksA, A)\n",
    "isValidRanksB = checkRanks(ranksB, B)\n",
    "print(\"Ранги А корректны: \", isValidRanksA)\n",
    "print(\"Ранги B корректны: \", isValidRanksB)"
   ]
  },
  {
   "cell_type": "markdown",
   "metadata": {
    "pycharm": {
     "name": "#%% md\n"
    }
   },
   "source": [
    "Для двух выборок критерий Крускала-Уоллиса по сути сводится к критерию Манна-Уитни\n",
    "\n",
    "Посчитаем эмпирическое значение U"
   ]
  },
  {
   "cell_type": "code",
   "execution_count": 22,
   "metadata": {
    "pycharm": {
     "name": "#%%\n"
    }
   },
   "outputs": [
    {
     "name": "stdout",
     "output_type": "stream",
     "text": [
      "196.0\n"
     ]
    }
   ],
   "source": [
    "def getU(ranksA, ranksB):\n",
    "    lenA = len(ranksA)\n",
    "    lenB = len(ranksB)\n",
    "    sumA = np.sum(ranksA)\n",
    "    sumB = np.sum(ranksB)\n",
    "    maxSum = max(sumA, sumB)\n",
    "    left = lenA * lenB\n",
    "    right = (lenA * (lenA + 1)) / 2\n",
    "    result = left + right - maxSum\n",
    "    return result\n",
    "\n",
    "U = getU(ranksA, ranksB)\n",
    "U_table = 55"
   ]
  },
  {
   "cell_type": "markdown",
   "metadata": {
    "pycharm": {
     "name": "#%% md\n"
    }
   },
   "source": [
    "Сравним эмпирическое значение U с табличным:"
   ]
  },
  {
   "cell_type": "code",
   "execution_count": null,
   "metadata": {
    "pycharm": {
     "name": "#%%\n"
    }
   },
   "outputs": [],
   "source": [
    "print(\"U эмпирическое = \", U)\n",
    "print(\"U(14,14) критическое при уровне значимости 0.05 = \", U_table)"
   ]
  },
  {
   "cell_type": "markdown",
   "metadata": {},
   "source": [
    "Так как эмпирическое значение U больше критического\n",
    "(U > Uкр) при уровне значимости 0.05, то принимается гипотеза 𝐻0:\n",
    "Различия между выборками не являются статистически достоверными и носят случайный характер"
   ]
  },
  {
   "cell_type": "markdown",
   "metadata": {
    "pycharm": {
     "name": "#%% md\n"
    }
   },
   "source": [
    "## Критерий Уилкоксона\n",
    "### Вариант №3\n",
    "\n",
    "H0: отсутствие статистической значимости изменений показателя\n",
    "H1: статистическая значимость изменений показателя в типичную сторону"
   ]
  },
  {
   "cell_type": "code",
   "execution_count": 23,
   "metadata": {
    "pycharm": {
     "name": "#%%\n"
    }
   },
   "outputs": [],
   "source": [
    "A = np.array([35.6, 36.0, 34.9, 34.7, 35.8, 37.2, 38.9, 35.8, 36.7, 37.7, 37.8, 36.9, 37.4, 39.1])\n",
    "B = np.array([35.7, 36.5, 34.8, 34.5, 35.9, 37.7, 38.8, 35.6, 36.8, 38.3, 37.7, 36.7, 37.5, 39.6])"
   ]
  },
  {
   "cell_type": "markdown",
   "metadata": {
    "pycharm": {
     "name": "#%% md\n"
    }
   },
   "source": [
    "Посчитаем разности показателей и проранжируем"
   ]
  },
  {
   "cell_type": "code",
   "execution_count": 30,
   "metadata": {
    "pycharm": {
     "name": "#%%\n"
    }
   },
   "outputs": [
    {
     "name": "stdout",
     "output_type": "stream",
     "text": [
      "Diffirencies :  [-0.1 -0.5  0.1  0.2 -0.1 -0.5  0.1  0.2 -0.1 -0.6  0.1  0.2 -0.1 -0.5]\n",
      "Absolute diffirencies :  [0.1 0.5 0.1 0.2 0.1 0.5 0.1 0.2 0.1 0.6 0.1 0.2 0.1 0.5]\n",
      "Ranks :  [ 6.   3.  10.5 14.   6.   3.  10.5 12.5  8.   1.   9.  12.5  6.   3. ]\n",
      "Is ranks valid : True\n"
     ]
    }
   ],
   "source": [
    "differencies = A - B\n",
    "absDifferencies = abs(differencies)\n",
    "print(\"Diffirencies : \", differencies)\n",
    "print(\"Absolute diffirencies : \", absDifferencies)\n",
    "diffRanks = getRanks(differencies)\n",
    "print(\"Ranks : \", diffRanks)\n",
    "\n",
    "print(\"Is ranks valid :\", checkRanks(diffRanks, differencies))"
   ]
  },
  {
   "cell_type": "markdown",
   "metadata": {
    "pycharm": {
     "name": "#%% md\n"
    }
   },
   "source": [
    "Пусть, типичным сдвигом будет считаться A[i] - B[i] < 0\n",
    "\n",
    "Выберем индексы рангов соответствующих сдвигам в нетипичном направлении"
   ]
  },
  {
   "cell_type": "code",
   "execution_count": 32,
   "metadata": {
    "pycharm": {
     "name": "#%%\n"
    }
   },
   "outputs": [
    {
     "name": "stdout",
     "output_type": "stream",
     "text": [
      "Индексы рангов с нетипичным сдвигом:  [ 2.  3.  6.  7. 10. 11.]\n",
      "14\n"
     ]
    }
   ],
   "source": [
    "def markRanks(diff, negative: bool):\n",
    "    rankIndices = np.array([])\n",
    "    for i in range(len(diff)):\n",
    "        if ((diff[i] < 0) and negative) or (diff[i] > 0) and not negative:\n",
    "            rankIndices = np.append(rankIndices, i)\n",
    "    return  rankIndices\n",
    "\n",
    "indices = markRanks(differencies, False)\n",
    "print(\"Индексы рангов с нетипичным сдвигом: \", indices)"
   ]
  },
  {
   "cell_type": "markdown",
   "metadata": {
    "pycharm": {
     "name": "#%% md\n"
    }
   },
   "source": [
    "Расчитаем T-критерий Уилкоксона"
   ]
  },
  {
   "cell_type": "code",
   "execution_count": 35,
   "metadata": {
    "pycharm": {
     "name": "#%%\n"
    }
   },
   "outputs": [],
   "source": [
    "def getEmpT(rankIndices, ranks):\n",
    "    sum = 0\n",
    "    for i in range(len(rankIndices)):\n",
    "        sum += ranks[i]\n",
    "    return sum\n",
    "T_emp = getEmpT(indices, diffRanks)\n",
    "T_table = 25"
   ]
  },
  {
   "cell_type": "markdown",
   "metadata": {
    "pycharm": {
     "name": "#%% md\n"
    }
   },
   "source": [
    "Сравним эмпирическое значение T с табличным T(14)_0.05"
   ]
  },
  {
   "cell_type": "code",
   "execution_count": 36,
   "metadata": {
    "pycharm": {
     "name": "#%%\n"
    }
   },
   "outputs": [
    {
     "name": "stdout",
     "output_type": "stream",
     "text": [
      "T эмпирическое :  42.5\n",
      "T(14)_0.05 :  25\n",
      "Tэмп > T(14) =  True\n"
     ]
    }
   ],
   "source": [
    "print(\"T эмпирическое : \", T_emp)\n",
    "print(\"T(14)_0.05 : \", T_table)\n",
    "print(\"Tэмп > T(14) = \", T_emp > T_table)"
   ]
  },
  {
   "cell_type": "markdown",
   "metadata": {
    "pycharm": {
     "name": "#%% md\n"
    }
   },
   "source": [
    "Так как эмпирическое значение T больше табличного T(14) принимается нулевая гипотеза об отсутствии статистической значимости изменений показателя."
   ]
  },
  {
   "cell_type": "markdown",
   "metadata": {
    "pycharm": {
     "name": "#%% md\n"
    }
   },
   "source": [
    "Задача №8\n",
    "H0: расход топлива остался прежним: x = 10л\n",
    "H1: расход топлива уменьшился: x < 10л\n",
    "\n",
    "Воспользуемся t-критерием Стьюдента для сравнения средних"
   ]
  },
  {
   "cell_type": "code",
   "execution_count": 37,
   "metadata": {
    "pycharm": {
     "name": "#%%\n"
    }
   },
   "outputs": [],
   "source": [
    "a = np.array([9.67, 10.1, 9.9, 9.35, 10.2, 9.45, 10.5, 9.56, 9.96])\n",
    "s = 10"
   ]
  },
  {
   "cell_type": "markdown",
   "metadata": {
    "pycharm": {
     "name": "#%% md\n"
    }
   },
   "source": [
    "Расчитаем сумму, выборочное среднее и квадраты отклонений"
   ]
  },
  {
   "cell_type": "code",
   "execution_count": 45,
   "metadata": {
    "pycharm": {
     "name": "#%%\n"
    }
   },
   "outputs": [
    {
     "name": "stdout",
     "output_type": "stream",
     "text": [
      "[0.03401975 0.06029753 0.00207531 0.2544642  0.11940864 0.16357531\n",
      " 0.41674198 0.08669753 0.01114198]\n"
     ]
    }
   ],
   "source": [
    "lenA = len(a)\n",
    "sum = np.sum(a)\n",
    "xArange = sum / lenA\n",
    "powDiffs = pow(a - xArange, 2)\n",
    "powDiffsSum = np.sum(powDiffs)"
   ]
  },
  {
   "cell_type": "markdown",
   "metadata": {
    "pycharm": {
     "name": "#%% md\n"
    }
   },
   "source": [
    "Посчитаем выборочную и исправленную дисперсии"
   ]
  },
  {
   "cell_type": "code",
   "execution_count": 46,
   "metadata": {
    "pycharm": {
     "name": "#%%\n"
    }
   },
   "outputs": [],
   "source": [
    "Dv = powDiffsSum / lenA\n",
    "s2 = (lenA / (lenA - 1)) * Dv\n",
    "std = pow(s2, 1 / 2)\n"
   ]
  },
  {
   "cell_type": "markdown",
   "metadata": {
    "pycharm": {
     "name": "#%% md\n"
    }
   },
   "source": [
    "Расчитаем статистику критерия t"
   ]
  },
  {
   "cell_type": "code",
   "execution_count": 50,
   "metadata": {
    "pycharm": {
     "name": "#%%\n"
    }
   },
   "outputs": [
    {
     "name": "stdout",
     "output_type": "stream",
     "text": [
      "-1.152508774777006\n"
     ]
    }
   ],
   "source": [
    "t = ((xArange - s) * pow(lenA, 1 / 2)) / std\n",
    "t_table = 2.26\n",
    "print(t)"
   ]
  },
  {
   "cell_type": "markdown",
   "metadata": {
    "pycharm": {
     "name": "#%% md\n"
    }
   },
   "source": [
    "Сравним абсолютное значение t с табличным значением t(9)_0.05 = 2,26"
   ]
  },
  {
   "cell_type": "code",
   "execution_count": 51,
   "metadata": {
    "pycharm": {
     "name": "#%%\n"
    }
   },
   "outputs": [
    {
     "name": "stdout",
     "output_type": "stream",
     "text": [
      "|t| =  1.152508774777006\n",
      "t(9)_0.05 =  2.26\n",
      "|t| < t(9)_0.05 = True\n"
     ]
    }
   ],
   "source": [
    "print(\"|t| = \", abs(t))\n",
    "print(\"t(9)_0.05 = \", t_table)\n",
    "print(\"|t| < t(9)_0.05 =\", abs(t) < t_table)"
   ]
  },
  {
   "cell_type": "markdown",
   "metadata": {},
   "source": [
    "Так как абсолютное значение t с табличным значением меньше t(9)_0.05, принимается гипотеза H0 - расход топлива не изменился"
   ]
  }
 ],
 "metadata": {
  "kernelspec": {
   "display_name": "Python 3 (ipykernel)",
   "language": "python",
   "name": "python3"
  },
  "language_info": {
   "codemirror_mode": {
    "name": "ipython",
    "version": 3
   },
   "file_extension": ".py",
   "mimetype": "text/x-python",
   "name": "python",
   "nbconvert_exporter": "python",
   "pygments_lexer": "ipython3",
   "version": "3.8.10"
  }
 },
 "nbformat": 4,
 "nbformat_minor": 1
}